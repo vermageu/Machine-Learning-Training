{
 "cells": [
  {
   "cell_type": "code",
   "execution_count": 7,
   "metadata": {},
   "outputs": [
    {
     "name": "stdout",
     "output_type": "stream",
     "text": [
      "Enter vaues of P(A), P(B) & P(A|B): \n",
      "11/36\n",
      "6/36\n",
      "2/36\n"
     ]
    }
   ],
   "source": [
    "'''\n",
    "  Q1. Write a function in Python which takes 3 probabilities as argument and \n",
    "      outputs the Conditional probability P(B|A).\n",
    "'''\n",
    "def cprob(pa,pb,pab):\n",
    "    val = (pa*pb)/pab\n",
    "    return val\n",
    "\n",
    "print(\"Enter vaues of P(A), P(B) & P(A|B): \")\n",
    "pa = eval(input())\n",
    "pb = eval(input())\n",
    "pab = eval(input())     "
   ]
  },
  {
   "cell_type": "markdown",
   "metadata": {},
   "source": []
  },
  {
   "cell_type": "code",
   "execution_count": 6,
   "metadata": {},
   "outputs": [
    {
     "name": "stdout",
     "output_type": "stream",
     "text": [
      "Conditional Probability:  0.9166666666666667\n"
     ]
    }
   ],
   "source": [
    "res = cprob(pa,pb,pab)\n",
    "print(\"Conditional Probability: \", res) "
   ]
  },
  {
   "cell_type": "code",
   "execution_count": 8,
   "metadata": {},
   "outputs": [
    {
     "name": "stdout",
     "output_type": "stream",
     "text": [
      "\n",
      "Let,\n",
      "E1: Event of choosing the bag I\n",
      "E2: Event of choosing the bag II\n",
      "A be the event of drawing a black ball.\n",
      "\n",
      "Probability:  0.5833333333333334\n"
     ]
    }
   ],
   "source": [
    "'''\n",
    "  Q2.  Bag I contains 4 white and 6 black balls while another Bag II contains 4 white and 3 black balls. \n",
    "       One ball is drawn at random from one of the bags and it is found to be black.\n",
    "       Find the probability that it was drawn from Bag I.\n",
    "'''       \n",
    "print(\"\\nLet,\\nE1: Event of choosing the bag I\\nE2: Event of choosing the bag II\\nA be the event of drawing a black ball.\")\n",
    "pe1=1/2\n",
    "pe2=1/2\n",
    "pae1=6/10\n",
    "pae2=3/7\n",
    "pe1a= ((pe1*pae1)/(pe1*pae1+pe2*pae2))\n",
    "print(\"\\nProbability: \", pe1a)  "
   ]
  },
  {
   "cell_type": "code",
   "execution_count": 10,
   "metadata": {},
   "outputs": [
    {
     "name": "stdout",
     "output_type": "stream",
     "text": [
      "\n",
      "Let,\n",
      "E: Event that the man reports that four occurs in the throwing of the die\n",
      "S1: Event that four occurs\n",
      "S2: Event that four doesn't occur.\n",
      "\n",
      "Probability:  0.2857142857142857\n"
     ]
    }
   ],
   "source": [
    "'''\n",
    "  Q3. A man is known to speak truth 2 out of 3 times. \n",
    "      He throws a die and reports that number obtained is a four. \n",
    "      Find the probability that the number obtained is actually a four.\n",
    "'''\n",
    "print(\"\\nLet,\\nE: Event that the man reports that four occurs in the throwing of the die\\nS1: Event that four occurs\\nS2: Event that four doesn't occur.\")\n",
    "ps1=1/6\n",
    "ps2=5/6\n",
    "pes1=2/3\n",
    "pes2=1/3\n",
    "ps1e=((ps1*pes1)/(ps1*pes1+ps2*pes2))\n",
    "print(\"\\nProbability: \", ps1e)       "
   ]
  }
 ],
 "metadata": {
  "kernelspec": {
   "display_name": "Python 3",
   "language": "python",
   "name": "python3"
  },
  "language_info": {
   "codemirror_mode": {
    "name": "ipython",
    "version": 3
   },
   "file_extension": ".py",
   "mimetype": "text/x-python",
   "name": "python",
   "nbconvert_exporter": "python",
   "pygments_lexer": "ipython3",
   "version": "3.6.5"
  }
 },
 "nbformat": 4,
 "nbformat_minor": 2
}
