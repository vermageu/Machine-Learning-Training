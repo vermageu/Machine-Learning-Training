{
 "cells": [
  {
   "cell_type": "code",
   "execution_count": 1,
   "metadata": {},
   "outputs": [
    {
     "name": "stdout",
     "output_type": "stream",
     "text": [
      "0.502814911843\n"
     ]
    }
   ],
   "source": [
    "'''\n",
    "   Q1. Create a numpy array with 10 elements of the shape(10,1) using np.random \n",
    "       and find out the mean of the elements using basic numpy functions.\n",
    "'''\n",
    "import numpy as np\n",
    "arr=[]\n",
    "arr.append(np.random.rand(1,10))         #np.random.rand generates random numers between 1 & 10\n",
    "mean = np.mean(arr)                      #np.mean claculates mean of given array\n",
    "print (mean)"
   ]
  },
  {
   "cell_type": "code",
   "execution_count": 2,
   "metadata": {},
   "outputs": [
    {
     "name": "stdout",
     "output_type": "stream",
     "text": [
      "0.0701587663632\n",
      "0.264875001393\n"
     ]
    }
   ],
   "source": [
    "'''\n",
    "   Q.2 Create a numpy array with 20 elements of the shape(20,1) \n",
    "   using np.random find the variance and standard deviation of the elements. \n",
    "'''\n",
    "arr=[]\n",
    "arr.append(np.random.rand(20,1))         \n",
    "variance = np.var(arr)                   #np.var calculates variance of given array\n",
    "stddev = np.std(arr)                     #np.std calculates standard deviation of given array\n",
    "print (variance)                   \n",
    "print (stddev)"
   ]
  },
  {
   "cell_type": "code",
   "execution_count": 3,
   "metadata": {},
   "outputs": [
    {
     "name": "stdout",
     "output_type": "stream",
     "text": [
      "142315\n"
     ]
    }
   ],
   "source": [
    "'''\n",
    "   Q.3 Create a numpy array A of shape(10,20) and B of shape (20,25) using np.random.\n",
    "       Print the matrix which is the matrix multiplication of A and B. The shape of the new matrix should be (10,25).\n",
    "       Using basic numpy math functions only find the sum of all the elements of the new matrix. \n",
    "'''\n",
    "A = np.random.randint(10, size=(10, 20))\n",
    "B = np.random.randint(10, size=(20, 35))\n",
    "C = np.matmul(A,B)                      #np.matmul calculates matrix multipication of A & B                    \n",
    "print(C.sum())                          #sum() function sums the elements of matric C"
   ]
  },
  {
   "cell_type": "code",
   "execution_count": 4,
   "metadata": {},
   "outputs": [
    {
     "name": "stdout",
     "output_type": "stream",
     "text": [
      "[0.8807970779778823, 0.5, 0.9998766054240137, 0.8807970779778823, 0.9996646498695336, 0.9933071490757153, 0.9525741268224334, 0.7310585786300049, 0.9996646498695336, 0.9820137900379085]\n"
     ]
    }
   ],
   "source": [
    "'''\n",
    "   Q.4 Create a numpy array A of shape(10,1).\n",
    "   Using the basic operations of the numpy array generate an array of shape(10,1) \n",
    "   such that each element is the following function applied on each element of A:\n",
    "                               f(x)=1 / (1 + exp(-x)) \n",
    "   Apply this function to each element of A and print the new array holding the value the function returns\n",
    "'''\n",
    "import math\n",
    "def fx(x):\n",
    "    #Function to define the given expression with different variables\n",
    "    return (1/(1+math.exp(-x)))\n",
    "\n",
    "A = np.random.randint(10,size=(10,1))   \n",
    "B = []\n",
    "for i in A:\n",
    "    B.append(fx(i))                    #Append each element in new array with a value returned from fx()\n",
    "print(B)                            "
   ]
  }
 ],
 "metadata": {
  "kernelspec": {
   "display_name": "Python 3",
   "language": "python",
   "name": "python3"
  },
  "language_info": {
   "codemirror_mode": {
    "name": "ipython",
    "version": 3
   },
   "file_extension": ".py",
   "mimetype": "text/x-python",
   "name": "python",
   "nbconvert_exporter": "python",
   "pygments_lexer": "ipython3",
   "version": "3.6.5"
  }
 },
 "nbformat": 4,
 "nbformat_minor": 2
}
