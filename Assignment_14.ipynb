{
 "cells": [
  {
   "cell_type": "code",
   "execution_count": 1,
   "metadata": {},
   "outputs": [
    {
     "name": "stdout",
     "output_type": "stream",
     "text": [
      "   B  1  1.1  1.2  1.3\n",
      "0  R  1    1    1    2\n",
      "1  R  1    1    1    3\n",
      "2  R  1    1    1    4\n",
      "3  R  1    1    1    5\n",
      "4  R  1    1    2    1\n"
     ]
    }
   ],
   "source": [
    "#Q1. Import the libraries and dataset. Print the head.\n",
    "import numpy as np\n",
    "import pandas as pd\n",
    "from sklearn.model_selection import train_test_split\n",
    "from sklearn.tree import DecisionTreeClassifier\n",
    "from sklearn.ensemble import RandomForestClassifier\n",
    "from sklearn.metrics import accuracy_score\n",
    "df= pd.read_csv('C:/Users/Intel/Desktop/balance_scale.csv')\n",
    "print(df.head())"
   ]
  },
  {
   "cell_type": "code",
   "execution_count": 2,
   "metadata": {},
   "outputs": [],
   "source": [
    "#Q2. Slice the dataset. Save the first column as y(Target) and rest of the columns as X(Features).\n",
    "X = df.values[:, 1:5]\n",
    "Y = df.values[:,0]"
   ]
  },
  {
   "cell_type": "code",
   "execution_count": 3,
   "metadata": {},
   "outputs": [
    {
     "name": "stdout",
     "output_type": "stream",
     "text": [
      "(436, 4)\n",
      "(436,)\n",
      "(188, 4)\n",
      "(188, 4)\n"
     ]
    }
   ],
   "source": [
    "#Q3. Split the dataset by using train_test_split(). \n",
    "X_train, X_test, Y_train, Y_test = train_test_split( X, Y, test_size = 0.3, random_state = 100)\n",
    "print(X_train.shape)\n",
    "print(Y_train.shape)\n",
    "print(X_test.shape)\n",
    "print(X_test.shape)"
   ]
  },
  {
   "cell_type": "code",
   "execution_count": 4,
   "metadata": {},
   "outputs": [
    {
     "name": "stdout",
     "output_type": "stream",
     "text": [
      "79.7872340426\n",
      "78.1914893617\n"
     ]
    }
   ],
   "source": [
    "'''\n",
    " Q4. Use DecisionTree with criterion\n",
    "        a. Gini\n",
    "        b. Entropy\n",
    "        Print the accuracy score.\n",
    "'''\n",
    "gini=DecisionTreeClassifier(criterion='gini')\n",
    "gini.fit(X_train,Y_train)\n",
    "Y_pred = gini.predict(X_test)\n",
    "print(accuracy_score(Y_test,Y_pred)*100)\n",
    "\n",
    "gini = DecisionTreeClassifier(criterion = \"entropy\")\n",
    "gini.fit(X_train, Y_train)\n",
    "Y_pred = gini.predict(X_test)\n",
    "print (accuracy_score(Y_test,Y_pred)*100)"
   ]
  },
  {
   "cell_type": "code",
   "execution_count": 5,
   "metadata": {},
   "outputs": [
    {
     "name": "stdout",
     "output_type": "stream",
     "text": [
      "82.4468085106\n",
      "82.9787234043\n"
     ]
    }
   ],
   "source": [
    "'''\n",
    " Q5. Use RandomForset with criterion\n",
    "        a. Gini\n",
    "        b. Entropy\n",
    "        Print the accuracy score. \n",
    "'''\n",
    "rfc = RandomForestClassifier(criterion='gini')\n",
    "rfc.fit(X_train, Y_train)\n",
    "Y_pred = rfc.predict(X_test)\n",
    "print (accuracy_score(Y_test,Y_pred)*100)\n",
    "\n",
    "rfc = RandomForestClassifier(criterion='entropy')\n",
    "rfc.fit(X_train, Y_train)\n",
    "Y_pred = rfc.predict(X_test)\n",
    "print (accuracy_score(Y_test,Y_pred)*100)"
   ]
  }
 ],
 "metadata": {
  "kernelspec": {
   "display_name": "Python 3",
   "language": "python",
   "name": "python3"
  },
  "language_info": {
   "codemirror_mode": {
    "name": "ipython",
    "version": 3
   },
   "file_extension": ".py",
   "mimetype": "text/x-python",
   "name": "python",
   "nbconvert_exporter": "python",
   "pygments_lexer": "ipython3",
   "version": "3.6.5"
  }
 },
 "nbformat": 4,
 "nbformat_minor": 2
}
